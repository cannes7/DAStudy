{
  "nbformat": 4,
  "nbformat_minor": 0,
  "metadata": {
    "colab": {
      "provenance": []
    },
    "kernelspec": {
      "name": "python3",
      "display_name": "Python 3"
    },
    "language_info": {
      "name": "python"
    }
  },
  "cells": [
    {
      "cell_type": "code",
      "source": [
        "import gdown\n",
        "gdown.download('https://bit.ly/3pK7iuu', 'ns_book7.csv', quiet=False)"
      ],
      "metadata": {
        "colab": {
          "base_uri": "https://localhost:8080/"
        },
        "id": "uCJ0ky9LnO5J",
        "outputId": "82fb4743-f648-422d-9c94-b407d50e6ce7"
      },
      "execution_count": null,
      "outputs": [
        {
          "output_type": "stream",
          "name": "stderr",
          "text": [
            "Downloading...\n",
            "From: https://bit.ly/3pK7iuu\n",
            "To: /content/ns_book7.csv\n",
            " 14%|█▎        | 7.34M/53.8M [00:00<00:00, 67.6MB/s]"
          ]
        }
      ]
    },
    {
      "cell_type": "code",
      "source": [
        "import pandas as pd\n",
        "\n",
        "ns_book7 = pd.read_csv('ns_book7.csv', low_memory=False)\n",
        "ns_book7.head()"
      ],
      "metadata": {
        "id": "7PJLqYjHnanZ"
      },
      "execution_count": null,
      "outputs": []
    },
    {
      "cell_type": "markdown",
      "source": [
        "# 5-1 맷플롯립 기본 요소\n",
        "**그래프 조작 방법**"
      ],
      "metadata": {
        "id": "lDKL2Cn5mFTw"
      }
    },
    {
      "cell_type": "markdown",
      "source": [
        "## figure피겨 객체\n",
        "scatter()함수로 산점도 그릴 때 자동 생성.<br>\n",
        "* figure()함수로 명시적으로 피겨 객체를 만들어 활용하면 다양한 그래프 옵션 조절 가능"
      ],
      "metadata": {
        "id": "HXGiQ8Apmtmb"
      }
    },
    {
      "cell_type": "code",
      "execution_count": null,
      "metadata": {
        "id": "JovXaIoElmDM"
      },
      "outputs": [],
      "source": [
        "#산점도 그리기\n",
        "import matplotlib.pyplot as plt\n",
        "\n",
        "plt.scatter(ns_book7['도서권수'], ns_book7['대출건수'], alpha=0.1)\n",
        "plt.show()"
      ]
    },
    {
      "cell_type": "markdown",
      "source": [
        "### 그래프 크기 바꾸기\n",
        "figure( )함수의 figsize 매개변수 : 그래프의 크기 튜플로 지정<br>\n",
        "기본 크기=(너비6inch,높이4inch)"
      ],
      "metadata": {
        "id": "SITsV8c5oNFF"
      }
    },
    {
      "cell_type": "code",
      "source": [
        "#산점도 좀 더 크게 그리기\n",
        "plt.figure(figsize=(9,6))\n",
        "plt.scatter(ns_book7['도서권수'], ns_book7['대출건수'],alpha=0.1)\n",
        "plt.show"
      ],
      "metadata": {
        "id": "THRN2u0FoKM_"
      },
      "execution_count": null,
      "outputs": []
    },
    {
      "cell_type": "markdown",
      "source": [
        "그런데 실제 인치와 그래프의 인치는 동일하지 않음.<br>\n",
        "맷플롯립의 기본 DPI=72라 노트북의 DPI랑 다르면 이런 상황 발생.<br> :DPI(dot per inch:1인치를 몇 개의 점(픽셀)로 표현?)<br>\n",
        "근데 figsize매개변수는 인치로 값을 지정해야함. <BR>\n",
        "인치값=픽셀값/DPI<BR>\n",
        "\n",
        "\n",
        "\n"
      ],
      "metadata": {
        "id": "lSNEr7V5q2Zf"
      }
    },
    {
      "cell_type": "markdown",
      "source": [
        "Ex) 900*600 픽셀 크기의 그래프 그리기"
      ],
      "metadata": {
        "id": "6UH8SQRLHiZ0"
      }
    },
    {
      "cell_type": "code",
      "source": [
        "plt.figure(figsize=(900/72,600/72))\n",
        "plt.scatter(ns_book7['도서권수'],ns_book7['대출건수'],alpha=0.1)\n",
        "plt.show()"
      ],
      "metadata": {
        "id": "_7QFHNcGqNzV"
      },
      "execution_count": null,
      "outputs": []
    },
    {
      "cell_type": "markdown",
      "source": [
        "코랩은 기본적으로 맷플롯립 그래프를 출력할 때, 그래프 주변에 공백을 최소화하는 *타이트* 레이아웃 사용하기 때문에, 설정한 900*600픽셀보다 조금 작음"
      ],
      "metadata": {
        "id": "LveRq4pEI2wI"
      }
    },
    {
      "cell_type": "markdown",
      "source": [
        "**타이트레이아웃 사용x<br>**\n",
        "bbox_inches옵션=None 지정"
      ],
      "metadata": {
        "id": "p-VBGM9WJniK"
      }
    },
    {
      "cell_type": "code",
      "source": [
        "%config lnlineBackend.print_figure_kwargs={'bbox_inches':None}\n",
        "plt.figure(figsize=(900/72,600/72))\n",
        "plt.scatter(ns_book7['도서권수'], ns_book7['대출건수'], alpha=0.1)\n",
        "plt.show()"
      ],
      "metadata": {
        "id": "ed5SpAdwH3Vv"
      },
      "execution_count": null,
      "outputs": []
    },
    {
      "cell_type": "markdown",
      "source": [
        "코랩에서는 안그런데 파이썬 셸에서는 정확히 900*600 픽셀 그래프 나옴"
      ],
      "metadata": {
        "id": "1bqL0cCoBTND"
      }
    },
    {
      "cell_type": "code",
      "source": [
        "#그래프 주변에 공백이 많으면, 출력된 그래프와 코드를 나란히 놓고 보기가 불편함.\n",
        "#원래대로 타이트한 레이아웃으로 되돌리자\n",
        "%config InlineBackend.print_figure_kwargs = {'bbox_inches':'tight'}"
      ],
      "metadata": {
        "id": "C0TttormJAJy"
      },
      "execution_count": null,
      "outputs": []
    },
    {
      "cell_type": "markdown",
      "source": [
        "###그래프 크기 바꾸기 : dpi 매개변수"
      ],
      "metadata": {
        "id": "4osqsNJnCBDS"
      }
    },
    {
      "cell_type": "code",
      "source": [
        "#dpi를 기본값인 72에서 144로 늘리기\n",
        "plt.figure(dpi=144)\n",
        "plt.scatter(ns_book7['도서권수'], ns_book7['대출건수'], alpha=0.1)\n",
        "plt.show()"
      ],
      "metadata": {
        "id": "v5athcyzBrGc"
      },
      "execution_count": null,
      "outputs": []
    },
    {
      "cell_type": "markdown",
      "source": [
        "dpi가 두 배 => 인치당 픽셀 수가 두 배 => 그래프가 두 배 크기"
      ],
      "metadata": {
        "id": "9yO9AyChCcz7"
      }
    },
    {
      "cell_type": "markdown",
      "source": [
        "cf) figsize = 그래프 그리는 캔버스 크기 / DPI=그래프 확대해서 보는 돋보기"
      ],
      "metadata": {
        "id": "Tk2P-YAvC5Wp"
      }
    },
    {
      "cell_type": "markdown",
      "source": [
        "## rcParams 객체\n",
        "맷플롯립 그래프의 기본값을 관리하는 객체<br>\n",
        "객체에 담긴 값 출력&새로운 값으로 바꾸기<br>\n",
        "=> 이후에 그려지는 모든 그래프에 바뀐 설정이 적용됨\n"
      ],
      "metadata": {
        "id": "itkpuLSBDH9C"
      }
    },
    {
      "cell_type": "code",
      "source": [
        "#dpi 기본값 바꾸기:해상도 높이기\n",
        "plt.rcParams['figure.dpi']=100"
      ],
      "metadata": {
        "id": "F6lKqzEyDHpa"
      },
      "execution_count": null,
      "outputs": []
    },
    {
      "cell_type": "code",
      "source": [
        "#산점도 마커 모양 바꾸기\n",
        "#산점도 그래프 마커 기본값 확인\n",
        "plt.rcParams['scatter.marker']"
      ],
      "metadata": {
        "id": "7gJTyZKHEx9Z"
      },
      "execution_count": null,
      "outputs": []
    },
    {
      "cell_type": "code",
      "source": [
        "#산점도 마커 모양 별모양으로 바꾸기\n",
        "plt.rcParams['scatter.marker']='*'"
      ],
      "metadata": {
        "id": "8jfGFA7SCZ3d"
      },
      "execution_count": null,
      "outputs": []
    },
    {
      "cell_type": "code",
      "source": [
        "#확인\n",
        "plt.scatter(ns_book7['도서권수'], ns_book7['대출건수'], alpha=0.1)\n",
        "plt.show()"
      ],
      "metadata": {
        "id": "ScpPyK15FEDA"
      },
      "execution_count": null,
      "outputs": []
    },
    {
      "cell_type": "markdown",
      "source": [
        "scatter.marker로 매번 기본값 수정하는건 귀찮음.<bR>\n",
        "**scatter()함수의 marker 매개변수로 마커 모양 필요할 때 지정**할 수 있음"
      ],
      "metadata": {
        "id": "wXFP-YzGFgB_"
      }
    },
    {
      "cell_type": "code",
      "source": [
        "plt.scatter(ns_book7['도서권수'], ns_book7['대출건수'], alpha=0.1, marker='+')\n",
        "plt.show()"
      ],
      "metadata": {
        "id": "7jjU1izTFeI3"
      },
      "execution_count": null,
      "outputs": []
    },
    {
      "cell_type": "markdown",
      "source": [
        "# 여러 개의 서브플롯 출력하기\n",
        "하나의 피겨 객체 안에는 여러 개의 서브플롯을 담을 수 있음. <br>\n",
        "* **서브플롯**: 맷플롯립의 Axes 클래스의 객체<br>\n",
        "* 하나의 서브플롯은 두 개 이상의 축(axis, x'y)를 포함.<br>\n",
        "* 각 축에는 눈금 또는 **틱**tick이 표시. / 축의 이름을 나타내는 **레이블**label이 있음."
      ],
      "metadata": {
        "id": "yCPkSPwcGdgm"
      }
    },
    {
      "cell_type": "markdown",
      "source": [
        "#### 하나의 피겨 객체에 두 개의 서브플롯 추가해 보기(산점도, 히스토그램)"
      ],
      "metadata": {
        "id": "aAuLrzZyGhJN"
      }
    },
    {
      "cell_type": "markdown",
      "source": [
        "서브플롯 그리기 : subplots()함수<br>\n",
        "함수에 원하는 서브 플롯 개수 지정<br>\n",
        "배열의 원소에서 원하는 그래프 함수 호출"
      ],
      "metadata": {
        "id": "q0woL-bgH-wA"
      }
    },
    {
      "cell_type": "code",
      "source": [
        "fig, axs=plt.subplots(2)\n",
        "\n",
        "axs[0].scatter(ns_book7['도서권수'], ns_book7['대출건수'], alpha=0.1)  #첫 번째 그래프\n",
        "axs[1].hist(ns_book7['대출건수'], bins=100)\n",
        "axs[1].set_yscale('log') #두 번째 그래프\n",
        "\n",
        "fig.show()"
      ],
      "metadata": {
        "id": "1rGnnhUoF-2j"
      },
      "execution_count": null,
      "outputs": []
    },
    {
      "cell_type": "markdown",
      "source": [
        "#### figsize 매개변수로 피겨 크기 지정\n",
        "subplots()함수의 매개변수 figsize."
      ],
      "metadata": {
        "id": "5GSXiXu-NUbY"
      }
    },
    {
      "cell_type": "code",
      "source": [
        "fig, axs = plt.subplots(2, figsize=(6,8))  #피겨 사이즈 (6,8)로 지정\n",
        "\n",
        "axs[0].scatter(ns_book7['도서권수'], ns_book7['대출건수'], alpha=0.1)\n",
        "axs[0].set_title('scatter plot')  #set_title()메서드로 각 그래프에 제목 넣기\n",
        "\n",
        "axs[1].hist(ns_book7['대출건수'], bins=100)\n",
        "axs[1].set_title('histogram')\n",
        "axs[1].set_yscale('log')\n",
        "\n",
        "fig.show()"
      ],
      "metadata": {
        "id": "rryacqlkKnyX"
      },
      "execution_count": null,
      "outputs": []
    },
    {
      "cell_type": "markdown",
      "source": [
        "### 서브플롯 가로로 나란히 출력하기\n",
        "**subplots()함수에 행과 열을 지정<br>**\n",
        "첫 번째 매개변수 = 서브플롯 행의 개수<br>\n",
        "두 번째 = 열의 개수<br>\n",
        "=> 아까 subplots(2)는 2행이라는 뜻이었음!"
      ],
      "metadata": {
        "id": "bF3tYTOpOLap"
      }
    },
    {
      "cell_type": "markdown",
      "source": [
        "**축 이름 지정하기**<br>\n",
        "set_xlabel(), set_ylabel() 메소드"
      ],
      "metadata": {
        "id": "rwLjuvnYO3_f"
      }
    },
    {
      "cell_type": "code",
      "source": [
        "fig, axs = plt.subplots(1,2,figsize=(10,4))\n",
        "\n",
        "axs[0].scatter(ns_book7['도서권수'], ns_book7['대출건수'], alpha=0.1)\n",
        "axs[0].set_title('scatter plot')\n",
        "axs[0].set_xlabel('number of books')\n",
        "axs[0].set_ylabel('borrow count')\n",
        "\n",
        "axs[1].hist(ns_book7['대출건수'], bins=100)\n",
        "axs[1].set_title('histogram')\n",
        "axs[1].set_yscale('log')\n",
        "axs[1].set_xlabel('borrow count')\n",
        "axs[1].set_ylabel('frequency')\n",
        "\n",
        "fig.show()"
      ],
      "metadata": {
        "id": "AAkZzIP4N-P1"
      },
      "execution_count": null,
      "outputs": []
    },
    {
      "cell_type": "markdown",
      "source": [
        "#5-2 선 그래프와 막대 그래프 그리기\n",
        "* 선 모양, 그래프 색상 바꾸기\n",
        "* 이미지 출력, 그래프를 이미지로 저장하기"
      ],
      "metadata": {
        "id": "v_8P06nL0b9Z"
      }
    },
    {
      "cell_type": "markdown",
      "source": [
        "### 연도별 발생 도서 개수 구하기\n"
      ],
      "metadata": {
        "id": "DHQx1oM20xyF"
      }
    },
    {
      "cell_type": "code",
      "source": [
        "import gdown\n",
        "\n",
        "gdown.download('https://bit.ly/3pK7iuu', 'ns_book7.csv', quiet=False)"
      ],
      "metadata": {
        "id": "jFIo9G_H1RUA"
      },
      "execution_count": null,
      "outputs": []
    },
    {
      "cell_type": "code",
      "source": [
        "import pandas as pd\n",
        "\n",
        "ns_book7 = pd.read_csv('ns_book7.csv', low_memory=False)\n",
        "ns_book7.head()"
      ],
      "metadata": {
        "id": "ALcBaPRR18J8"
      },
      "execution_count": null,
      "outputs": []
    },
    {
      "cell_type": "markdown",
      "source": [
        "#### 선 그래프에 적합하게 데이터 가공하기\n"
      ],
      "metadata": {
        "id": "vnyAt2A-1JBp"
      }
    },
    {
      "cell_type": "markdown",
      "source": [
        "value_counts()메서드: 고유한 값의 등장 횟수 계산<br>\n"
      ],
      "metadata": {
        "id": "EVcKnAFR2TKt"
      }
    },
    {
      "cell_type": "code",
      "source": [
        "count_by_year = ns_book7['발행년도'].value_counts()\n",
        "count_by_year"
      ],
      "metadata": {
        "id": "Q0jXbC_iPQCA"
      },
      "execution_count": null,
      "outputs": []
    },
    {
      "cell_type": "markdown",
      "source": [
        " count_by_year은 판다스 시리즈 객체<bR>\n",
        " 첫 열=인덱스 /두 번째 열=값 / 값 기본 내림차순<br>\n",
        " but 선 그래프=x축 연도 시간순 배치 필요"
      ],
      "metadata": {
        "id": "jNhaMEiQ2-Gr"
      }
    },
    {
      "cell_type": "code",
      "source": [
        "#count_by_year을 인덱스 기준으로 오름차순 정렬해야 시간순서로 바뀜\n",
        "count_by_year=count_by_year.sort_index() #인덱스순 정렬\n",
        "count_by_year"
      ],
      "metadata": {
        "id": "IbAR9uhL23kQ"
      },
      "execution_count": null,
      "outputs": []
    },
    {
      "cell_type": "markdown",
      "source": [
        "**미래시점 버리고 index속성이 2030년 이하인 것만 뽑기**"
      ],
      "metadata": {
        "id": "fboNwVN_4Fbq"
      }
    },
    {
      "cell_type": "code",
      "source": [
        "count_by_year=count_by_year[count_by_year.index<=2030]\n",
        "count_by_year"
      ],
      "metadata": {
        "id": "pSdmQtJX4ATT"
      },
      "execution_count": null,
      "outputs": []
    },
    {
      "cell_type": "markdown",
      "source": [
        "#### 주제별 도서 개수 구하기\n",
        "주제분류번호로 분류 : value_counts()메서드 이용<br>\n",
        "NaN값은 -1로 반환시켜야함.<BR>\n",
        "kdc_1st_char()함수: '주제분류번호' 열의 값 받아서 첫 번째 문자 반환 <br>=> apply()메서드에 넣어 데이터프레임에 반복 적용"
      ],
      "metadata": {
        "id": "dl41Hf4U5Ij-"
      }
    },
    {
      "cell_type": "code",
      "source": [
        "import numpy as np #np.nan 사용 위해 넘파이 임포트\n",
        "\n",
        "def kdc_1st_char(no):\n",
        "  if no is np.nan:\n",
        "    return '-1'\n",
        "  else:\n",
        "    return no[0] #첫번째 글자 가져오기\n",
        "\n",
        "count_by_subject = ns_book7['주제분류번호'].apply(kdc_1st_char).value_counts()\n",
        "count_by_subject"
      ],
      "metadata": {
        "id": "P0af7tVV4fnB"
      },
      "execution_count": null,
      "outputs": []
    },
    {
      "cell_type": "markdown",
      "source": [
        "cf) 여기서 주제분류번호는 순서 의미 없음->오름차순 정렬 필요x<br>\n",
        "\n",
        "\n",
        "*   명목형 데이터(nominal): 순서 매길 수 없는 데이터 ex.성별, 국가\n",
        "*   순서형 데이터(ordinal): 순서 있는.->그래프 그리기 전 정렬 필요\n",
        "\n"
      ],
      "metadata": {
        "id": "luiM5kT87KXR"
      }
    },
    {
      "cell_type": "markdown",
      "source": [
        "## 선 그래프 그리기\n",
        "맷플롯립의 plot()함수=>선그래프<br>\n",
        "첫 매개변수=x축의 값 , 두 번째=y축의 값"
      ],
      "metadata": {
        "id": "mPq-xWdL7mJ4"
      }
    },
    {
      "cell_type": "code",
      "source": [
        "#해상도 높이기\n",
        "import matplotlib.pyplot as plt\n",
        "plt.rcParams['figure.dpi']=100"
      ],
      "metadata": {
        "id": "VKuObXDx6jAX"
      },
      "execution_count": null,
      "outputs": []
    },
    {
      "cell_type": "code",
      "source": [
        "#x축 연도(index), y축 도서개수(values) 지정하여 선 그래프 그리기\n",
        "plt.plot(count_by_year.index, count_by_year.values)\n",
        "plt.title('Books by year')\n",
        "plt.xlabel('year')\n",
        "plt.ylabel('number of books')\n",
        "plt.show"
      ],
      "metadata": {
        "id": "RUDCmvYn8UXQ"
      },
      "execution_count": null,
      "outputs": []
    },
    {
      "cell_type": "markdown",
      "source": [
        "**선 모양과 색 바꾸기**<br>\n",
        "plot()함수의<br>\n",
        "1. linestyle 매개변수<br>\n",
        "선 모양\n",
        "* 실선: '-'\n",
        "* 점선: ':'\n",
        "* 쇄선: '-.'\n",
        "* 파선: '--'\n",
        "2. color매개변수(16진수 컬러코드 #ff0000) or marker 매개변수 사용가능<br>\n",
        "blue, green, red, cyan, megenta, yellow, black, white<br>->포맷 문자열 사용시에는 맨 앞 글자 사용"
      ],
      "metadata": {
        "id": "8JqSYEy78yBR"
      }
    },
    {
      "cell_type": "code",
      "source": [
        "#마커는 점, 선은 점선, 빨간색\n",
        "#plot()에 인덱스,값 전달이 아니고, 시리즈 객체 그대로 plot()함수에 전달하는 방법\n",
        "plt.plot(count_by_year, marker='.', linestyle=':', color='red')\n",
        "plt.title('Books by year')\n",
        "plt.xlabel('year')\n",
        "plt.ylabel('number of books')\n",
        "plt.show()"
      ],
      "metadata": {
        "id": "4edCG6LX8u5S"
      },
      "execution_count": null,
      "outputs": []
    },
    {
      "cell_type": "code",
      "source": [
        "#마커, 선모양, 색깔을 하나의 문자열로 나타낼 수도 있음. x,y축 값 다음에 지정하면 됨.\n",
        "plt.plot(count_by_year, '.:r')\n",
        "# marker='.', linestyle=':', color='red' 대신 입력한 것"
      ],
      "metadata": {
        "id": "hwNPsfIU_nvU"
      },
      "execution_count": null,
      "outputs": []
    },
    {
      "cell_type": "code",
      "source": [
        "#별 모양 마커, 실선, 녹색 선\n",
        "plt.plot(count_by_year, '*-g')\n",
        "plt.title('Books by year')\n",
        "plt.xlabel('year')\n",
        "plt.ylabel('number of books')\n",
        "plt.show()"
      ],
      "metadata": {
        "id": "qquKv5VtA9Jf"
      },
      "execution_count": null,
      "outputs": []
    },
    {
      "cell_type": "markdown",
      "source": [
        "### 마커 옆에 데이터값 표시하기\n"
      ],
      "metadata": {
        "id": "GPT1VrOkCfqQ"
      }
    },
    {
      "cell_type": "markdown",
      "source": [
        "#### x축 눈금 개수 늘리기\n",
        "* xticks()함수 : x축 눈금지정<br>\n",
        "xticks함수 매개변수로 range()함수로 연도 10단위로 표시<br>\n",
        "* 그래프에 값 표시할 때는 annotate()함수 사용<br>\n",
        "** 첫 매개변수: 그래프에 나타낼 문자열 지정 / 두 번째 매개변수: 텍스트가 나타날 x,y좌표\n"
      ],
      "metadata": {
        "id": "75bFDpteCuI1"
      }
    },
    {
      "cell_type": "code",
      "source": [
        "plt.plot(count_by_year, '*-g')\n",
        "plt.xlabel('year')\n",
        "plt.ylabel('number of books')\n",
        "plt.xticks(range(1947, 2030, 10))\n",
        "#년도 범위, x축 눈금 10 단위로 입력\n",
        "for idx, val in count_by_year[::5].items():\n",
        "  #items()메서드로 인덱스와 값을 감싼 튜플을 얻을 수 있음\n",
        "  #5개씩 건너뛰며 마커에 텍스트 표시\n",
        "  plt.annotate(val, (idx, val))\n",
        "  #val은 그래프에 나타낼 문자열, (idx,val)은 텍스트가 나타날 x,y좌표\n",
        "plt.show()"
      ],
      "metadata": {
        "id": "xhnPRXAlCRrn"
      },
      "execution_count": null,
      "outputs": []
    },
    {
      "cell_type": "markdown",
      "source": [
        "텍스트를 마커에서 조금 떼어 놓기\n",
        "<br>\n",
        "**xytext 매개변수** 사용"
      ],
      "metadata": {
        "id": "32k28L9RG7JT"
      }
    },
    {
      "cell_type": "code",
      "source": [
        "#annotate()함수는 기본적으로 마커와 동일한 좌표 시스템 사용\n",
        "#마커 위치에서 x축은 1만큼, y축으로는 10만큼 떨어지게 지정\n",
        "plt.plot(count_by_year, '*-g')\n",
        "plt.title('Books by year')\n",
        "plt.xlabel('year')\n",
        "plt.ylabel('number of books')\n",
        "plt.xticks(range(1947, 2030, 10))\n",
        "for idx, val in count_by_year[::5].items():\n",
        "    plt.annotate(val, (idx, val), xytext=(idx+1, val+10))\n",
        "plt.show()"
      ],
      "metadata": {
        "id": "e3B0hz0TGzS_"
      },
      "execution_count": null,
      "outputs": []
    },
    {
      "cell_type": "markdown",
      "source": [
        "y축 이동은 미미한 효과->y축의 스케일이 x축보다 훨 크기 때문.<br>\n",
        "-> **상대적인 위치**를 포인트나 픽셀 단위로 지정<br>\n",
        "-> **xytext매개변수 + textcoords 매개변수** <br>\n",
        "textcoords 매개변수에 포인트 단위의 상대 위치를 나타내는 *'offset points' 지정*"
      ],
      "metadata": {
        "id": "48g6qAGdHawb"
      }
    },
    {
      "cell_type": "code",
      "source": [
        "plt.plot(count_by_year, '*-g')\n",
        "plt.title('Books by year')\n",
        "plt.xlabel('year')\n",
        "plt.ylabel('number of books')\n",
        "plt.xticks(range(1947, 2030, 10))\n",
        "for idx, val in count_by_year[::5].items():\n",
        "    plt.annotate(val, (idx, val), xytext=(2, 2), textcoords='offset points')\n",
        "plt.show()\n",
        "#xytext=(2,2)는  주석을 그리는 시작점으로부터 오른쪽으로 2 포인트, 위로 2 포인트 떨어진 위치에 텍스트를 배치한다는 의미\n",
        "# textcoords는 xytext 매개변수에 지정된 위치의 좌표 체계를 정의.'offset points'는 주석의 위치(xytext로 지정된)가 시작점으로부터의 상대적 거리임을 나타냄."
      ],
      "metadata": {
        "id": "V8tVxHF9HWWP"
      },
      "execution_count": null,
      "outputs": []
    },
    {
      "cell_type": "markdown",
      "source": [
        "## 막대그래프 그리기\n",
        "bar()함수<br>\n",
        "plot()함수와 비슷"
      ],
      "metadata": {
        "id": "xbxdn9U2KdlG"
      }
    },
    {
      "cell_type": "code",
      "source": [
        "plt.bar(count_by_subject.index, count_by_subject.values)\n",
        "#x축에는 인덱스인 주제분류번호, y축에는 도서 개수\n",
        "plt.title('Books by subject')\n",
        "plt.xlabel('subject')\n",
        "plt.ylabel('number of books')\n",
        "for idx, val in count_by_subject.items():\n",
        "    plt.annotate(val, (idx, val), xytext=(0, 2), textcoords='offset points')\n",
        "plt.show()"
      ],
      "metadata": {
        "id": "-y7X1ccLKakV"
      },
      "execution_count": null,
      "outputs": []
    },
    {
      "cell_type": "markdown",
      "source": [
        "텍스트 중앙이 막대 중앙에 오도록 중앙 정렬<br>\n",
        "* annotate()함수의 ha 매개변수='center'지정 (기본값은 'right')\n",
        "* fontsize매개변수 : 사이즈 줄여 겹치는 텍스트 수정\n",
        "* width 매개변수(기본값0.8): 막대 두께 조절"
      ],
      "metadata": {
        "id": "OI0_UaCyS7q9"
      }
    },
    {
      "cell_type": "code",
      "source": [
        "plt.bar(count_by_subject.index, count_by_subject.values, width=0.7, color='blue')\n",
        "plt.title('Books by subject')\n",
        "plt.xlabel('subject')\n",
        "plt.ylabel('number of books')\n",
        "for idx, val in count_by_subject.items():\n",
        "    plt.annotate(val, (idx, val), xytext=(0, 2), textcoords='offset points',\n",
        "                 fontsize=8, ha='center', color='green')\n",
        "plt.show()"
      ],
      "metadata": {
        "id": "HKuxYkAmS329"
      },
      "execution_count": null,
      "outputs": []
    },
    {
      "cell_type": "markdown",
      "source": [
        "### 가로 막대 그래프 그리기\n",
        "**barh()함수<br>**\n",
        "* 막대 두께 조정 매개변수 = height(width아님)\n",
        "* x축과 y축도 바꿔야함\n",
        "* annotate()함수 텍스트 좌표 쓸 때도 (val,idx)로 바꿔야함\n"
      ],
      "metadata": {
        "id": "7lOtSZCXT1xP"
      }
    },
    {
      "cell_type": "markdown",
      "source": [
        "**텍스트 가로 막대 중앙에 정렬: va매개변수**<br>\n",
        "* 기본값:'baseline': 텍스트 밑면을 막대 중앙에 맞춤<br>\n",
        "* center:텍스트 중앙을 막대 중앙으로<br>\n",
        "* 위로 정렬: top / 아래로: bottom\n"
      ],
      "metadata": {
        "id": "L7sfQtKTge5n"
      }
    },
    {
      "cell_type": "code",
      "source": [
        "plt.barh(count_by_subject.index, count_by_subject.values, height=0.7, color='blue')\n",
        "plt.title('Books by subject')\n",
        "plt.xlabel('number of books')\n",
        "plt.ylabel('subject')\n",
        "for idx, val in count_by_subject.items():\n",
        "    plt.annotate(val, (val, idx), xytext=(2, 0), textcoords='offset points',\n",
        "                 fontsize=8, va='center', color='green')\n",
        "    #xytext=(2, 0): x축 방향으로 2포인트 간격\n",
        "plt.show()"
      ],
      "metadata": {
        "id": "GzH_rPsagJOR"
      },
      "execution_count": null,
      "outputs": []
    },
    {
      "cell_type": "markdown",
      "source": [
        "### 더알아보기) 이미지 출력하고 저장하기"
      ],
      "metadata": {
        "id": "OTBU6fH-m6gN"
      }
    },
    {
      "cell_type": "code",
      "source": [
        "import sys\n",
        "if 'google.colab' in sys.modules:\n",
        "    !wget https://bit.ly/3wrj4xf -O jupiter.png\n",
        "    #샘플 이미지 다운로드"
      ],
      "metadata": {
        "id": "q_xz4GoMT0FH"
      },
      "execution_count": null,
      "outputs": []
    },
    {
      "cell_type": "code",
      "source": [
        "#맷플롯립에서 이미지 읽기 : imread()함수 이용\n",
        "\n",
        "img = plt.imread('jupiter.png')\n",
        "img.shape\n",
        "#(높이, 너비, 채널) 출력"
      ],
      "metadata": {
        "id": "3hYBPk64m6MZ"
      },
      "execution_count": null,
      "outputs": []
    },
    {
      "cell_type": "code",
      "source": [
        "#이미지 화면에 출력하기: 배열로 읽은 후 화면에 표현 : imshow()함수 이용\n",
        "plt.imshow(img)\n",
        "plt.show()"
      ],
      "metadata": {
        "id": "inaSNSHtnJew"
      },
      "execution_count": null,
      "outputs": []
    },
    {
      "cell_type": "markdown",
      "source": [
        "* imshow()함수는 크기를 설정해도 원본 이미지의 가로세로 비율 유지<br>\n",
        "=>가로세로 비율이 달라지더라도 피겨 크기에 맞추어 이미지 출력하려면 imshow()함수의 aspect매개변수='auto'로 설정<br>\n",
        "* 이미지에 표시된 축과 눈금을 출력하지 않으려면 axis() 함수를 'off'로 지정"
      ],
      "metadata": {
        "id": "HXuG1Xfnnw2T"
      }
    },
    {
      "cell_type": "code",
      "source": [
        "plt.figure(figsize=(8, 6))\n",
        "plt.imshow(img)\n",
        "plt.axis('off')\n",
        "plt.show()"
      ],
      "metadata": {
        "id": "7zPs8mjinqgP"
      },
      "execution_count": null,
      "outputs": []
    },
    {
      "cell_type": "markdown",
      "source": [
        "#### 이미지 저장하기 : imsave()함수\n",
        "첫 매개변수=저장할 파일 이름<br>\n",
        "두 번째 = 이미지가 저장된 넘파이 배열<br>\n",
        "* 확장자명으로 이미지 자동 변환해줌\n",
        "\n",
        "\n"
      ],
      "metadata": {
        "id": "1rvFltLDo1MD"
      }
    },
    {
      "cell_type": "code",
      "source": [
        "plt.imsave('jupiter.jpg', img)"
      ],
      "metadata": {
        "id": "fl5pNln7oPQf"
      },
      "execution_count": null,
      "outputs": []
    },
    {
      "cell_type": "markdown",
      "source": [
        "### 그래프 이미지로 저장하기: savefig()함수\n",
        "첫 매개변수=저장할 이미지 파일 이름<br>\n",
        "dpi 매개변수=그래프 저장할 때 사용할 DPI 지정<BR>\n",
        "* rcParams['savefig.dpi]로도 DPI 지정 가능\n",
        "\n",
        "\n"
      ],
      "metadata": {
        "id": "ZEdiA5wYqOmo"
      }
    },
    {
      "cell_type": "code",
      "source": [
        "plt.rcParams['savefig.dpi']"
      ],
      "metadata": {
        "id": "_R9smQu6qqbL"
      },
      "execution_count": null,
      "outputs": []
    },
    {
      "cell_type": "code",
      "source": [
        "#아까 가로그래프 저장\n",
        "#savefig()호출->show()함수 호출 순서 반드시\n",
        "#show()호출하면 피겨 객체가 자동 소멸되기 때문\n",
        "plt.barh(count_by_subject.index, count_by_subject.values, height=0.7, color='blue')\n",
        "plt.title('Books by subject')\n",
        "plt.xlabel('number of books')\n",
        "plt.ylabel('subject')\n",
        "for idx, val in count_by_subject.items():\n",
        "    plt.annotate(val, (val, idx), xytext=(2, 0), textcoords='offset points',\n",
        "                 fontsize=8, va='center', color='green')\n",
        "plt.savefig('books_by_subject.png')\n",
        "plt.show()"
      ],
      "metadata": {
        "id": "KprNUVbepIyu"
      },
      "execution_count": null,
      "outputs": []
    },
    {
      "cell_type": "code",
      "source": [
        "#저장된 파일 출력하기\n",
        "\n",
        "plt.barh(count_by_subject.index, count_by_subject.values, height=0.7, color='blue')\n",
        "plt.title('Books by subject')\n",
        "plt.xlabel('number of books')\n",
        "plt.ylabel('subject')\n",
        "for idx, val in count_by_subject.items():\n",
        "    plt.annotate(val, (val, idx), xytext=(2, 0), textcoords='offset points',\n",
        "                 fontsize=8, va='center', color='green')\n",
        "plt.savefig('books_by_subject.png')\n",
        "plt.show()"
      ],
      "metadata": {
        "id": "lg7XgDGeq9oi"
      },
      "execution_count": null,
      "outputs": []
    },
    {
      "cell_type": "markdown",
      "source": [
        "savefig()함수의 DPI 높게 설정하면, 인쇄물에 사용할만한 고해상도 이미지 저장 가능"
      ],
      "metadata": {
        "id": "T7598FDtrbTC"
      }
    }
  ]
}
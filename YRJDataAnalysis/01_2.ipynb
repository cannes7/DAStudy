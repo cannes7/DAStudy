{
  "nbformat": 4,
  "nbformat_minor": 0,
  "metadata": {
    "colab": {
      "provenance": []
    },
    "kernelspec": {
      "name": "python3",
      "display_name": "Python 3"
    },
    "language_info": {
      "name": "python"
    }
  },
  "cells": [
    {
      "cell_type": "markdown",
      "source": [
        "> 텍스트 셀"
      ],
      "metadata": {
        "id": "ivUpoeRIja7j"
      }
    },
    {
      "cell_type": "markdown",
      "source": [
        "# 장예린\n",
        "## 장예린\n",
        "### 장예린\n",
        "#### 장예린\n",
        "##### 장예린\n",
        "\n",
        "**장예린**\n",
        "\n",
        "*장예린*\n",
        "_장예린_\n",
        "\n",
        "~~장예린~~\n",
        "\n",
        "'print(\"Jang Yerin\")'\n",
        "\n",
        ">장예린\n",
        "\n",
        "* 장예린\n",
        "- 장예린\n",
        "\n",
        "$y=x\\times z$\n",
        "\n",
        "\n",
        "\n"
      ],
      "metadata": {
        "id": "PIqE-eq3jsNF"
      }
    },
    {
      "cell_type": "markdown",
      "source": [
        "> 코드 셀"
      ],
      "metadata": {
        "id": "D5IajYfijQd1"
      }
    },
    {
      "cell_type": "code",
      "execution_count": 2,
      "metadata": {
        "colab": {
          "base_uri": "https://localhost:8080/"
        },
        "id": "ATWHoXWPfCpl",
        "outputId": "620853f6-ebbc-4e47-ed6e-d81cf878d4ff"
      },
      "outputs": [
        {
          "output_type": "execute_result",
          "data": {
            "text/plain": [
              "604800"
            ]
          },
          "metadata": {},
          "execution_count": 2
        }
      ],
      "source": [
        "seconds_in_a_week = 24 * 60 * 60 * 7\n",
        "seconds_in_a_week"
      ]
    },
    {
      "cell_type": "code",
      "source": [
        "seconds_in_a_week = 0\n",
        "seconds_in_a_week"
      ],
      "metadata": {
        "colab": {
          "base_uri": "https://localhost:8080/"
        },
        "id": "cHP6RvCYjMFk",
        "outputId": "bccae66d-f284-4cc5-8a31-0770970fbbcc"
      },
      "execution_count": 3,
      "outputs": [
        {
          "output_type": "execute_result",
          "data": {
            "text/plain": [
              "0"
            ]
          },
          "metadata": {},
          "execution_count": 3
        }
      ]
    }
  ]
}
